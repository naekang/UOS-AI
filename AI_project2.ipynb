{
  "nbformat": 4,
  "nbformat_minor": 0,
  "metadata": {
    "colab": {
      "name": "AI-project2.ipynb",
      "provenance": [],
      "authorship_tag": "ABX9TyPYEklRD4SQtQgtWMWCqr3K",
      "include_colab_link": true
    },
    "kernelspec": {
      "name": "python3",
      "display_name": "Python 3"
    },
    "language_info": {
      "name": "python"
    }
  },
  "cells": [
    {
      "cell_type": "markdown",
      "metadata": {
        "id": "view-in-github",
        "colab_type": "text"
      },
      "source": [
        "<a href=\"https://colab.research.google.com/github/naekang/UOS-AI/blob/main/AI_project2.ipynb\" target=\"_parent\"><img src=\"https://colab.research.google.com/assets/colab-badge.svg\" alt=\"Open In Colab\"/></a>"
      ]
    },
    {
      "cell_type": "code",
      "metadata": {
        "id": "7NlntAdhM3kN"
      },
      "source": [
        "import numpy as np\n",
        "\n",
        "import torch\n",
        "import torch.nn as nn\n",
        "import torch.optim as optim\n",
        "\n",
        "import matplotlib.pyplot as plt\n",
        "\n",
        "import pandas as pd\n",
        "torch.set_printoptions(edgeitems=2, precision=2, linewidth=75)"
      ],
      "execution_count": 4,
      "outputs": []
    },
    {
      "cell_type": "code",
      "metadata": {
        "colab": {
          "base_uri": "https://localhost:8080/"
        },
        "id": "Z64fV2dDOFcC",
        "outputId": "44e846d5-53a1-461d-bd55-107de1a09a23"
      },
      "source": [
        "import csv\n",
        "wine_path = './winequality-white.csv'\n",
        "wineq_numpy = np.loadtxt(wine_path, dtype=np.float32, delimiter=\";\", skiprows=1)\n",
        "wineq_numpy"
      ],
      "execution_count": 6,
      "outputs": [
        {
          "output_type": "execute_result",
          "data": {
            "text/plain": [
              "array([[ 7.  ,  0.27,  0.36, ...,  0.45,  8.8 ,  6.  ],\n",
              "       [ 6.3 ,  0.3 ,  0.34, ...,  0.49,  9.5 ,  6.  ],\n",
              "       [ 8.1 ,  0.28,  0.4 , ...,  0.44, 10.1 ,  6.  ],\n",
              "       ...,\n",
              "       [ 6.5 ,  0.24,  0.19, ...,  0.46,  9.4 ,  6.  ],\n",
              "       [ 5.5 ,  0.29,  0.3 , ...,  0.38, 12.8 ,  7.  ],\n",
              "       [ 6.  ,  0.21,  0.38, ...,  0.32, 11.8 ,  6.  ]], dtype=float32)"
            ]
          },
          "metadata": {},
          "execution_count": 6
        }
      ]
    },
    {
      "cell_type": "code",
      "metadata": {
        "colab": {
          "base_uri": "https://localhost:8080/"
        },
        "id": "-XU4ON7LPmv5",
        "outputId": "3f17060d-de78-403a-811e-15dd17b38da5"
      },
      "source": [
        "df = pd.read_csv(\"./winequality-white.csv\")\n",
        "print(df)"
      ],
      "execution_count": 7,
      "outputs": [
        {
          "output_type": "stream",
          "name": "stdout",
          "text": [
            "     fixed acidity;\"volatile acidity\";\"citric acid\";\"residual sugar\";\"chlorides\";\"free sulfur dioxide\";\"total sulfur dioxide\";\"density\";\"pH\";\"sulphates\";\"alcohol\";\"quality\"\n",
            "0      7;0.27;0.36;20.7;0.045;45;170;1.001;3;0.45;8.8;6                                                                                                                     \n",
            "1     6.3;0.3;0.34;1.6;0.049;14;132;0.994;3.3;0.49;9...                                                                                                                     \n",
            "2     8.1;0.28;0.4;6.9;0.05;30;97;0.9951;3.26;0.44;1...                                                                                                                     \n",
            "3     7.2;0.23;0.32;8.5;0.058;47;186;0.9956;3.19;0.4...                                                                                                                     \n",
            "4     7.2;0.23;0.32;8.5;0.058;47;186;0.9956;3.19;0.4...                                                                                                                     \n",
            "...                                                 ...                                                                                                                     \n",
            "4893  6.2;0.21;0.29;1.6;0.039;24;92;0.99114;3.27;0.5...                                                                                                                     \n",
            "4894  6.6;0.32;0.36;8;0.047;57;168;0.9949;3.15;0.46;...                                                                                                                     \n",
            "4895  6.5;0.24;0.19;1.2;0.041;30;111;0.99254;2.99;0....                                                                                                                     \n",
            "4896  5.5;0.29;0.3;1.1;0.022;20;110;0.98869;3.34;0.3...                                                                                                                     \n",
            "4897  6;0.21;0.38;0.8;0.02;22;98;0.98941;3.26;0.32;1...                                                                                                                     \n",
            "\n",
            "[4898 rows x 1 columns]\n"
          ]
        }
      ]
    },
    {
      "cell_type": "code",
      "metadata": {
        "colab": {
          "base_uri": "https://localhost:8080/"
        },
        "id": "YbRP7S6sQgEs",
        "outputId": "5f4facae-34e9-4f1b-b9bc-780b14772506"
      },
      "source": [
        "col_list = next(csv.reader(open(wine_path), delimiter=\";\"))\n",
        "\n",
        "wineq_numpy.shape, col_list"
      ],
      "execution_count": 8,
      "outputs": [
        {
          "output_type": "execute_result",
          "data": {
            "text/plain": [
              "((4898, 12),\n",
              " ['fixed acidity',\n",
              "  'volatile acidity',\n",
              "  'citric acid',\n",
              "  'residual sugar',\n",
              "  'chlorides',\n",
              "  'free sulfur dioxide',\n",
              "  'total sulfur dioxide',\n",
              "  'density',\n",
              "  'pH',\n",
              "  'sulphates',\n",
              "  'alcohol',\n",
              "  'quality'])"
            ]
          },
          "metadata": {},
          "execution_count": 8
        }
      ]
    },
    {
      "cell_type": "code",
      "metadata": {
        "colab": {
          "base_uri": "https://localhost:8080/"
        },
        "id": "_wr37yi6Q27T",
        "outputId": "68a89ffc-1aee-4e67-a440-a31cf1a71460"
      },
      "source": [
        "wineq = torch.from_numpy(wineq_numpy)\n",
        "\n",
        "wineq.shape, wineq.dtype"
      ],
      "execution_count": 9,
      "outputs": [
        {
          "output_type": "execute_result",
          "data": {
            "text/plain": [
              "(torch.Size([4898, 12]), torch.float32)"
            ]
          },
          "metadata": {},
          "execution_count": 9
        }
      ]
    },
    {
      "cell_type": "markdown",
      "metadata": {
        "id": "nH0_4dO1H_K7"
      },
      "source": [
        "wine 데이터에서 quality를 제외하고 데이터 생성"
      ]
    },
    {
      "cell_type": "code",
      "metadata": {
        "colab": {
          "base_uri": "https://localhost:8080/"
        },
        "id": "kYoxlWsOQ3qC",
        "outputId": "35dc447b-b5ab-4908-90da-501690d21058"
      },
      "source": [
        "data = wineq[:, :-1] \n",
        "\n",
        "data, data.shape"
      ],
      "execution_count": 10,
      "outputs": [
        {
          "output_type": "execute_result",
          "data": {
            "text/plain": [
              "(tensor([[ 7.00,  0.27,  ...,  0.45,  8.80],\n",
              "         [ 6.30,  0.30,  ...,  0.49,  9.50],\n",
              "         ...,\n",
              "         [ 5.50,  0.29,  ...,  0.38, 12.80],\n",
              "         [ 6.00,  0.21,  ...,  0.32, 11.80]]), torch.Size([4898, 11]))"
            ]
          },
          "metadata": {},
          "execution_count": 10
        }
      ]
    },
    {
      "cell_type": "code",
      "metadata": {
        "colab": {
          "base_uri": "https://localhost:8080/"
        },
        "id": "btmILAFnQ3-8",
        "outputId": "2788edcc-cf69-4607-b3fd-3c1c925b4e59"
      },
      "source": [
        "target = wineq[:, -1] \n",
        "\n",
        "target, target.shape\n"
      ],
      "execution_count": 11,
      "outputs": [
        {
          "output_type": "execute_result",
          "data": {
            "text/plain": [
              "(tensor([6., 6.,  ..., 7., 6.]), torch.Size([4898]))"
            ]
          },
          "metadata": {},
          "execution_count": 11
        }
      ]
    },
    {
      "cell_type": "code",
      "metadata": {
        "colab": {
          "base_uri": "https://localhost:8080/"
        },
        "id": "VBdnv8dpQ4J2",
        "outputId": "205b0227-ed7f-4570-929a-cd1060d37469"
      },
      "source": [
        "target = wineq[:, -1].long()\n",
        "\n",
        "target"
      ],
      "execution_count": 12,
      "outputs": [
        {
          "output_type": "execute_result",
          "data": {
            "text/plain": [
              "tensor([6, 6,  ..., 7, 6])"
            ]
          },
          "metadata": {},
          "execution_count": 12
        }
      ]
    },
    {
      "cell_type": "code",
      "metadata": {
        "colab": {
          "base_uri": "https://localhost:8080/"
        },
        "id": "p5_3fIK2Dcs_",
        "outputId": "ce780da4-ced2-4cc3-fa07-20262f056fad"
      },
      "source": [
        "target_onehot = torch.zeros(target.shape[0], 10)\n",
        "target_onehot.scatter_(1, target.unsqueeze(1), 1.0)\n",
        "target = target_onehot\n",
        "target"
      ],
      "execution_count": 21,
      "outputs": [
        {
          "output_type": "execute_result",
          "data": {
            "text/plain": [
              "tensor([[0., 0.,  ..., 0., 0.],\n",
              "        [0., 0.,  ..., 0., 0.],\n",
              "        ...,\n",
              "        [0., 0.,  ..., 0., 0.],\n",
              "        [0., 0.,  ..., 0., 0.]])"
            ]
          },
          "metadata": {},
          "execution_count": 21
        }
      ]
    },
    {
      "cell_type": "markdown",
      "metadata": {
        "id": "8cBG0YXZINKb"
      },
      "source": [
        "일반적으로 데이터셋을 분리할 때 훈련 데이터와 검증 데이터를 7:3 또는 8:2의 비율로 나눔"
      ]
    },
    {
      "cell_type": "code",
      "metadata": {
        "id": "WhWZECYCDzP9"
      },
      "source": [
        "n_samples = data.shape[0]\n",
        "n_val = int(0.2 * n_samples)"
      ],
      "execution_count": 22,
      "outputs": []
    },
    {
      "cell_type": "code",
      "metadata": {
        "colab": {
          "base_uri": "https://localhost:8080/"
        },
        "id": "Bdwt8IlREGE7",
        "outputId": "05b34373-6179-45e5-bb4f-3b0687c60097"
      },
      "source": [
        "shuffled_indices = torch.randperm(n_samples)\n",
        "shuffled_indices"
      ],
      "execution_count": 23,
      "outputs": [
        {
          "output_type": "execute_result",
          "data": {
            "text/plain": [
              "tensor([1858, 1272,  ..., 4276, 2125])"
            ]
          },
          "metadata": {},
          "execution_count": 23
        }
      ]
    },
    {
      "cell_type": "code",
      "metadata": {
        "id": "vFlS2FpSEJQs"
      },
      "source": [
        "train_indices = shuffled_indices[:-n_val]\n",
        "val_indices = shuffled_indices[-n_val:]\n",
        "\n",
        "target_t = target[train_indices]\n",
        "data_t = data[train_indices]\n",
        "target_v = target[val_indices]\n",
        "data_v = data[val_indices]"
      ],
      "execution_count": 24,
      "outputs": []
    },
    {
      "cell_type": "markdown",
      "metadata": {
        "id": "oDtXv_k7S_pa"
      },
      "source": [
        "Adam을 이용한 학습과정"
      ]
    },
    {
      "cell_type": "code",
      "metadata": {
        "colab": {
          "base_uri": "https://localhost:8080/"
        },
        "id": "VQsKv3UJEjoN",
        "outputId": "06568e89-44bf-4113-ca6c-c3d8b0e31461"
      },
      "source": [
        "loss_val_data = [] # validation data의 loss 값을 저장하는 리스트\n",
        "loss_train_data = [] # train data의 loss 값을 저장하는 리스트\n",
        "\n",
        "# 트레이닝 루프\n",
        "import torch.nn as nn\n",
        "def training_loop(n_epochs, optimizer, model, loss_fn, data_t, data_v,\n",
        "                  target_t, target_v):\n",
        "    for epoch in range(1, n_epochs + 1):\n",
        "        t_p_train = model(data_t) # <1>\n",
        "        loss_train = loss_fn(t_p_train, target_t)\n",
        "        t_p_val = model(data_v) \n",
        "        loss_val = loss_fn(t_p_val, target_v)\n",
        "        optimizer.zero_grad()\n",
        "        loss_train.backward()\n",
        "        optimizer.step()\n",
        "        loss_val_data.append(loss_val.item())\n",
        "        loss_train_data.append(loss_train.item())\n",
        "        if epoch == 1 or epoch % 1000 == 0:\n",
        "          print(f\"Epoch {epoch}, Training loss {loss_train.item():.4f},\"\n",
        "                  f\" Validation loss {loss_val.item():.4f}\")\n",
        "\n",
        "linear_model = nn.Linear(11, 10)\n",
        "learning_rate = 1e-3\n",
        "optimizer = optim.Adam(linear_model.parameters(), lr=learning_rate)\n",
        "\n",
        "training_loop(\n",
        "    n_epochs = 10000, \n",
        "    optimizer = optimizer,\n",
        "    model = linear_model,\n",
        "    loss_fn = nn.MSELoss(), \n",
        "    data_t = data_t,\n",
        "    data_v = data_v, \n",
        "    target_t = target_t,\n",
        "    target_v = target_v)"
      ],
      "execution_count": 38,
      "outputs": [
        {
          "output_type": "stream",
          "name": "stdout",
          "text": [
            "Epoch 1, Training loss 845.1994, Validation loss 852.0998\n",
            "Epoch 1000, Training loss 5.1177, Validation loss 5.4862\n",
            "Epoch 2000, Training loss 1.4684, Validation loss 1.5436\n",
            "Epoch 3000, Training loss 0.3167, Validation loss 0.3338\n",
            "Epoch 4000, Training loss 0.0940, Validation loss 0.0990\n",
            "Epoch 5000, Training loss 0.0699, Validation loss 0.0725\n",
            "Epoch 6000, Training loss 0.0666, Validation loss 0.0686\n",
            "Epoch 7000, Training loss 0.0644, Validation loss 0.0661\n",
            "Epoch 8000, Training loss 0.0629, Validation loss 0.0643\n",
            "Epoch 9000, Training loss 0.0619, Validation loss 0.0631\n",
            "Epoch 10000, Training loss 0.0613, Validation loss 0.0624\n"
          ]
        }
      ]
    },
    {
      "cell_type": "code",
      "metadata": {
        "colab": {
          "base_uri": "https://localhost:8080/",
          "height": 295
        },
        "id": "P0gBSeUcFw3q",
        "outputId": "378a7421-359b-45a2-831e-5b10a5a15d33"
      },
      "source": [
        "n_epochs = 10000\n",
        "plt.title('result');\n",
        "x = range(n_epochs)\n",
        "y = loss_train_data\n",
        "plt.xlabel('epoch')\n",
        "plt.ylabel('loss')\n",
        "plt.xlim(1000,10000) # X축 범위\n",
        "plt.ylim(0.01,0.1) # y축 범위\n",
        "plt.plot(x,y)\n",
        "plt.show()"
      ],
      "execution_count": 41,
      "outputs": [
        {
          "output_type": "display_data",
          "data": {
            "image/png": "[encoded data removed]",
            "text/plain": [
              "<Figure size 432x288 with 1 Axes>"
            ]
          },
          "metadata": {
            "needs_background": "light"
          }
        }
      ]
    }
  ]
}